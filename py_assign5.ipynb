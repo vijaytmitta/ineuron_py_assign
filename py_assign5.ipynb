{
 "cells": [
  {
   "cell_type": "code",
   "execution_count": 1,
   "id": "363dc545",
   "metadata": {},
   "outputs": [
    {
     "name": "stdout",
     "output_type": "stream",
     "text": [
      "Enter value of n1: 27\n",
      "Enter value of n2: 89\n",
      "Lcm of n1: 27 and n2:89 is :2403\n"
     ]
    }
   ],
   "source": [
    "# Write a Python Program to Find LCM?\n",
    "\n",
    "def compute_lcm(x,y):\n",
    "    if x>y:\n",
    "        greater=x\n",
    "    else:greater=y\n",
    "    while True:\n",
    "        if ((greater%x==0) and (greater%y==0)):\n",
    "            lcm=greater\n",
    "            break\n",
    "        greater+=1\n",
    "    return lcm\n",
    "n1=int(input('Enter value of n1: '))\n",
    "n2=int(input('Enter value of n2: '))\n",
    "\n",
    "print('Lcm of n1: {0} and n2:{1} is :{2}'.format(n1,n2,compute_lcm(n1,n2)))"
   ]
  },
  {
   "cell_type": "code",
   "execution_count": 2,
   "id": "a9c07dbb",
   "metadata": {},
   "outputs": [
    {
     "name": "stdout",
     "output_type": "stream",
     "text": [
      "Enter value of n1: 453\n",
      "Enter value of n2: 24\n",
      "HCF of n1: 453 and n2:24 is :3\n"
     ]
    }
   ],
   "source": [
    "# Write a Python Program to Find HCF?\n",
    "\n",
    "def compute_hcf(x,y):\n",
    "    if x>y:\n",
    "        smaller=y\n",
    "    else:smaller=x\n",
    "    while True:\n",
    "        if ((x%smaller==0) and (y%smaller==0)):\n",
    "            hcf=smaller\n",
    "            break\n",
    "        smaller-=1\n",
    "    return hcf\n",
    "\n",
    "n1=int(input('Enter value of n1: '))\n",
    "n2=int(input('Enter value of n2: '))\n",
    "\n",
    "print('HCF of n1: {0} and n2:{1} is :{2}'.format(n1,n2,compute_hcf(n1,n2)))"
   ]
  },
  {
   "cell_type": "code",
   "execution_count": 3,
   "id": "17feb659",
   "metadata": {},
   "outputs": [
    {
     "name": "stdout",
     "output_type": "stream",
     "text": [
      "Enter value want to convert into Binary or Octal or Hexadecimal45\n",
      "Which numbering system want?: hex for Hexadecimal, oct for Octal and bin for Binaryhex\n",
      "45 equivalent hex number is :0x2d\n"
     ]
    }
   ],
   "source": [
    "# Write a Python Program to Convert Decimal to Binary, Octal and Hexadecimal?\n",
    "\n",
    "n=int(input('Enter value want to convert into Binary or Octal or Hexadecimal'))\n",
    "\n",
    "num=str(input('Which numbering system want?: hex for Hexadecimal, oct for Octal and bin for Binary'))\n",
    "\n",
    "if num=='hex':\n",
    "    print('{0} equivalent hex number is :{1}'.format(n,hex(n)))\n",
    "elif num=='oct':\n",
    "    print('{0} equivalent octal number is :{1}'.format(n,oct(n)))\n",
    "elif num=='bin':\n",
    "    print('{0} equivalent binary number is :{1}'.format(n,bin(n)))\n",
    "else:print('Invalid input')"
   ]
  },
  {
   "cell_type": "code",
   "execution_count": 4,
   "id": "e9bc76c0",
   "metadata": {},
   "outputs": [
    {
     "name": "stdout",
     "output_type": "stream",
     "text": [
      "Enter any single character want to print in ASCII characterQ\n",
      "The ASCII value of 'Q' is 81\n"
     ]
    }
   ],
   "source": [
    "# Write a Python Program To Find ASCII value of a character?\n",
    "\n",
    "c=input('Enter any single character want to print in ASCII character')\n",
    "\n",
    "print(\"The ASCII value of '\" + c + \"' is\", ord(c))"
   ]
  },
  {
   "cell_type": "code",
   "execution_count": 5,
   "id": "7b939a81",
   "metadata": {},
   "outputs": [
    {
     "name": "stdout",
     "output_type": "stream",
     "text": [
      "Enter value of a : 39\n",
      "Enter value of b: 76\n",
      "Enter want to do operation only addition or subtraction or multiplication or divisiondivision\n",
      "division of a:39.0 by b:76.0 is :0.5131578947368421 \n",
      "end\n"
     ]
    }
   ],
   "source": [
    "# Write a Python Program to Make a Simple Calculator with 4 basic mathematical operations?\n",
    "a=float(input('Enter value of a : '))\n",
    "b=float(input('Enter value of b: '))\n",
    "operation=str(input('Enter want to do operation only addition or subtraction or multiplication or division'))\n",
    "\n",
    "if operation=='addition':\n",
    "    print('addition of a: {0} and b: {1} is :{2}'.format(a,b,(a+b)))\n",
    "\n",
    "if operation=='subtraction':\n",
    "    print('subtraction of a:{0} by b:{1} is :{2}'.format(a,b,(a-b)))\n",
    "    \n",
    "if operation=='multiplication':\n",
    "    print('multiplication of a :{0} and b:{1} is :{2}'.format(a,b,{a*b}))\n",
    "if operation=='division':\n",
    "    print('division of a:{0} by b:{1} is :{2} '.format(a,b,(a/b)))\n",
    "print('end')"
   ]
  },
  {
   "cell_type": "code",
   "execution_count": null,
   "id": "2fb8b58b",
   "metadata": {},
   "outputs": [],
   "source": []
  }
 ],
 "metadata": {
  "kernelspec": {
   "display_name": "Python 3",
   "language": "python",
   "name": "python3"
  },
  "language_info": {
   "codemirror_mode": {
    "name": "ipython",
    "version": 3
   },
   "file_extension": ".py",
   "mimetype": "text/x-python",
   "name": "python",
   "nbconvert_exporter": "python",
   "pygments_lexer": "ipython3",
   "version": "3.8.8"
  }
 },
 "nbformat": 4,
 "nbformat_minor": 5
}
