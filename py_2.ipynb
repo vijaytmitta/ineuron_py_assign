{
 "cells": [
  {
   "cell_type": "code",
   "execution_count": 2,
   "id": "819e5cf5",
   "metadata": {},
   "outputs": [
    {
     "name": "stdout",
     "output_type": "stream",
     "text": [
      "Enter value in kilometres: 3.5\n",
      "Kilometres to Miles:  2.1747985\n"
     ]
    }
   ],
   "source": [
    "#program to convert kilometres to miles\n",
    "km=float(input('Enter value in kilometres: ' ))\n",
    "convfactor=0.621371\n",
    "km_to_miles=convfactor*km\n",
    "print('Kilometres to Miles: ',km_to_miles)"
   ]
  },
  {
   "cell_type": "code",
   "execution_count": 7,
   "id": "ed3bde8a",
   "metadata": {},
   "outputs": [
    {
     "name": "stdout",
     "output_type": "stream",
     "text": [
      "Enter value in degree celcius: 32\n",
      "degree celcius 32.00 to degree farhenhit 89.60\n"
     ]
    }
   ],
   "source": [
    "#program to convert degree celcius to farhenhit\n",
    "celcius=float(input('Enter value in degree celcius: '))\n",
    "farhenhit=float((celcius*1.8)+32)\n",
    "print('degree celcius %0.2f to degree farhenhit %0.2f'%(celcius, farhenhit))"
   ]
  },
  {
   "cell_type": "code",
   "execution_count": 9,
   "id": "1c5621c4",
   "metadata": {},
   "outputs": [
    {
     "name": "stdout",
     "output_type": "stream",
     "text": [
      "Enter year want a calendar: 2022\n",
      "Enter month want a calendar: 6\n",
      "     June 2022\n",
      "Mo Tu We Th Fr Sa Su\n",
      "       1  2  3  4  5\n",
      " 6  7  8  9 10 11 12\n",
      "13 14 15 16 17 18 19\n",
      "20 21 22 23 24 25 26\n",
      "27 28 29 30\n",
      "\n"
     ]
    }
   ],
   "source": [
    "#program to display calendar\n",
    "import calendar\n",
    "year=int(input('Enter year want a calendar: '))\n",
    "mnt=int(input('Enter month want a calendar: '))\n",
    "print(calendar.month(year,mnt))"
   ]
  },
  {
   "cell_type": "code",
   "execution_count": 23,
   "id": "2f9220c5",
   "metadata": {},
   "outputs": [
    {
     "name": "stdout",
     "output_type": "stream",
     "text": [
      "Enter a value: 2\n",
      "Enter b value: 4\n",
      "Enter c value: 2\n",
      "solutions are true and equal\n",
      "The solutions are -1.0 and -1.0\n"
     ]
    }
   ],
   "source": [
    "#program to solve a quadratic equation\n",
    "import cmath\n",
    "\n",
    "a=int(input('Enter a value: '))\n",
    "b=int(input('Enter b value: '))\n",
    "c=int(input('Enter c value: '))\n",
    "if (b**2)>(4*a*c):\n",
    "    mod=(b**2)-(4*a*c)\n",
    "    print('solutions are true')\n",
    "    sol_pos=(-b+cmath.sqrt(mod))/(2*a)\n",
    "    sol_neg=(-b-cmath.sqrt(mod))/(2*a)\n",
    "    print('The solutions are {0} and {1}'.format(sol_pos,sol_neg))\n",
    "elif (b**2)<(4*a*c):\n",
    "    print('Solution are imaginary')\n",
    "    mod=(b**2)-(4*a*c)\n",
    "    sol_pos=(-b+cmath.sqrt(mod))/(2*a)\n",
    "    sol_neg=(-b-cmath.sqrt(mod))/(2*a)\n",
    "    print('The solutions are {0} and {1}'.format(sol_pos,sol_neg))\n",
    "elif (b**2)==(4*a*c):\n",
    "    print('solutions are true and equal')\n",
    "    sol=(-b)/(2*a)\n",
    "    print('The solutions are {0} and {1}'.format(sol,sol))"
   ]
  },
  {
   "cell_type": "code",
   "execution_count": 24,
   "id": "b9838a7c",
   "metadata": {},
   "outputs": [
    {
     "name": "stdout",
     "output_type": "stream",
     "text": [
      "Enter a value: 1\n",
      "Enter b value: 2\n",
      "two variables are a: 2 and b:1\n"
     ]
    }
   ],
   "source": [
    "#program to swap two variables without using a temporary variable\n",
    "a=int(input('Enter a value: '))\n",
    "b=int(input('Enter b value: '))\n",
    "\n",
    "a=a+b\n",
    "b=a-b\n",
    "a=a-b\n",
    "print('two variables are a: {0} and b:{1}'.format(a,b))"
   ]
  },
  {
   "cell_type": "code",
   "execution_count": null,
   "id": "6b0475f0",
   "metadata": {},
   "outputs": [],
   "source": []
  }
 ],
 "metadata": {
  "kernelspec": {
   "display_name": "Python 3",
   "language": "python",
   "name": "python3"
  },
  "language_info": {
   "codemirror_mode": {
    "name": "ipython",
    "version": 3
   },
   "file_extension": ".py",
   "mimetype": "text/x-python",
   "name": "python",
   "nbconvert_exporter": "python",
   "pygments_lexer": "ipython3",
   "version": "3.8.8"
  }
 },
 "nbformat": 4,
 "nbformat_minor": 5
}
