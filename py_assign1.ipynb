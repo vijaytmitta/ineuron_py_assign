{
 "cells": [
  {
   "cell_type": "code",
   "execution_count": 1,
   "id": "7f593e64",
   "metadata": {},
   "outputs": [
    {
     "name": "stdout",
     "output_type": "stream",
     "text": [
      "Hello Python\n"
     ]
    }
   ],
   "source": [
    "# Write a Python program to print \"Hello Python\"?\n",
    "print('Hello Python')"
   ]
  },
  {
   "cell_type": "code",
   "execution_count": 2,
   "id": "882ece73",
   "metadata": {},
   "outputs": [
    {
     "name": "stdout",
     "output_type": "stream",
     "text": [
      "Enter a value: 1\n",
      "Enter b value: 2\n",
      "Addition of a: 1 and b: 2 is a+b: 3\n",
      "Divison a: 1 by b: 2 is a/b: 0.5\n"
     ]
    }
   ],
   "source": [
    "# Write a Python program to do arithmetical operations addition and division.?\n",
    "\n",
    "a=int(input('Enter a value: '))\n",
    "b=int(input('Enter b value: '))\n",
    "\n",
    "#Addition\n",
    "print('Addition of a: {0} and b: {1} is a+b: {2}'.format(a,b,(a+b)))\n",
    "\n",
    "#Divison\n",
    "print('Divison a: {0} by b: {1} is a/b: {2}'.format(a,b,(a/b)))"
   ]
  },
  {
   "cell_type": "code",
   "execution_count": 3,
   "id": "3d07747b",
   "metadata": {},
   "outputs": [
    {
     "name": "stdout",
     "output_type": "stream",
     "text": [
      "Enter value of a side of traingle: 1\n",
      "Enter value of b side of traingle: 3\n",
      "Enter value of c side of traingle: 2\n",
      "invalid triangle\n"
     ]
    }
   ],
   "source": [
    "# Write a Python program to find the area of a triangle?\n",
    " \n",
    "a=float(input('Enter value of a side of traingle: '))\n",
    "b=float(input('Enter value of b side of traingle: '))\n",
    "c=float(input('Enter value of c side of traingle: '))\n",
    "s=float((a+b+c)/2)\n",
    "if a>=(b+c) or b>=(a+c) or c>=(a+b):\n",
    "    print('invalid triangle')\n",
    "else:\n",
    "    Area=(s*(s-a)*(s-b)*(s-c))**0.5\n",
    "    print('Area of triangle :',Area)"
   ]
  },
  {
   "cell_type": "code",
   "execution_count": 4,
   "id": "b324ae27",
   "metadata": {},
   "outputs": [
    {
     "name": "stdout",
     "output_type": "stream",
     "text": [
      "Enter a value: 1\n",
      "Enter b value: 2\n",
      "value of a: 1.0 and b:2.0\n",
      "value of a: 2.0 and b:1.0\n"
     ]
    }
   ],
   "source": [
    "# Write a Python program to swap two variables?\n",
    "a=float(input('Enter a value: '))\n",
    "b=float(input('Enter b value: '))\n",
    "print('value of a: {0} and b:{1}'.format(a,b))\n",
    "\n",
    "c=a\n",
    "a=b\n",
    "b=c\n",
    "print('value of a: {0} and b:{1}'.format(a,b))"
   ]
  },
  {
   "cell_type": "code",
   "execution_count": 5,
   "id": "390d87a8",
   "metadata": {},
   "outputs": [
    {
     "name": "stdout",
     "output_type": "stream",
     "text": [
      "Enter end value of the random number: 3\n",
      "Enter start value of the random number: 5\n",
      "not possible\n"
     ]
    }
   ],
   "source": [
    "# Write a Python program to generate a random number?\n",
    "\n",
    "end=int(input('Enter end value of the random number: '))\n",
    "start=int(input('Enter start value of the random number: '))\n",
    "import random\n",
    "if end>start:print('random number is: ',random.randint(start,end))\n",
    "else:print('not possible')"
   ]
  },
  {
   "cell_type": "code",
   "execution_count": null,
   "id": "6d52df19",
   "metadata": {},
   "outputs": [],
   "source": []
  }
 ],
 "metadata": {
  "kernelspec": {
   "display_name": "Python 3",
   "language": "python",
   "name": "python3"
  },
  "language_info": {
   "codemirror_mode": {
    "name": "ipython",
    "version": 3
   },
   "file_extension": ".py",
   "mimetype": "text/x-python",
   "name": "python",
   "nbconvert_exporter": "python",
   "pygments_lexer": "ipython3",
   "version": "3.8.8"
  }
 },
 "nbformat": 4,
 "nbformat_minor": 5
}
