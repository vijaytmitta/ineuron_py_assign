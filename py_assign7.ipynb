{
 "cells": [
  {
   "cell_type": "code",
   "execution_count": 1,
   "id": "e649c8ce",
   "metadata": {},
   "outputs": [
    {
     "name": "stdout",
     "output_type": "stream",
     "text": [
      "sum of array: 17\n"
     ]
    }
   ],
   "source": [
    "# Write a Python Program to find sum of array?\n",
    "\n",
    "arr=[1,4,3,9]\n",
    "sum_ar=sum(arr)\n",
    "print('sum of array:',sum_ar)"
   ]
  },
  {
   "cell_type": "code",
   "execution_count": 2,
   "id": "29a91a16",
   "metadata": {},
   "outputs": [
    {
     "name": "stdout",
     "output_type": "stream",
     "text": [
      "largest element in an array:  9\n"
     ]
    }
   ],
   "source": [
    "# Write a Python Program to find largest element in an array?\n",
    "    \n",
    "arr=[1,4,3,9]\n",
    "lar_ar=max(arr)\n",
    "print('largest element in an array: ',lar_ar)"
   ]
  },
  {
   "cell_type": "code",
   "execution_count": 3,
   "id": "c12af856",
   "metadata": {},
   "outputs": [
    {
     "name": "stdout",
     "output_type": "stream",
     "text": [
      "[1, 4, 3, 9]\n",
      "enter positive integer value for array rotate by: 3\n",
      "rotation of array by one step:  [9, 1, 4, 3]\n"
     ]
    }
   ],
   "source": [
    "# Write a Python Program for array rotation?\n",
    "\n",
    "\n",
    "def rot_arr(arr,n):\n",
    "    if n<=len(arr):\n",
    "        part_1=arr[:n]\n",
    "        part_2=arr[n:]\n",
    "        rot_arr=part_2\n",
    "        rot_arr.extend(part_1)\n",
    "        return print('rotation of array by one step: ',rot_arr)\n",
    "    else:return print('not possible')\n",
    "\n",
    "arr=[1,4,3,9]\n",
    "print(arr)\n",
    "rot=int(input('enter positive integer value for array rotate by: '))\n",
    "rot_arr(arr,rot)"
   ]
  },
  {
   "cell_type": "code",
   "execution_count": 4,
   "id": "955be3c6",
   "metadata": {},
   "outputs": [
    {
     "name": "stdout",
     "output_type": "stream",
     "text": [
      "array:  [1, 4, 3, 9, 5]\n",
      "new array after split and adding first part to the end:  [3, 9, 5, 1, 4]\n"
     ]
    }
   ],
   "source": [
    "# Write a Python Program to Split the array and add the first part to the end?\n",
    "\n",
    "arr=[1,4,3,9,5]\n",
    "part_1=arr[:2]\n",
    "part_2=arr[2:]\n",
    "new_arr=part_2\n",
    "new_arr.extend(part_1)\n",
    "print('array: ',arr)\n",
    "print('new array after split and adding first part to the end: ',new_arr)"
   ]
  },
  {
   "cell_type": "code",
   "execution_count": 40,
   "id": "cef112ef",
   "metadata": {},
   "outputs": [
    {
     "name": "stdout",
     "output_type": "stream",
     "text": [
      "Given array is Monotonic:  False\n"
     ]
    }
   ],
   "source": [
    "# Write a Python Program to check if given array is Monotonic?\n",
    "\n",
    "arr=[1,1,3,7,5]\n",
    "print('Given array is Monotonic: ',all(arr[i] >= arr[i+1] for i in range(len(arr)-1)) or\n",
    "      all(arr[i] <= arr[i+1] for i in range(len(arr)-1)))"
   ]
  },
  {
   "cell_type": "code",
   "execution_count": null,
   "id": "38d0d993",
   "metadata": {},
   "outputs": [],
   "source": []
  }
 ],
 "metadata": {
  "kernelspec": {
   "display_name": "Python 3",
   "language": "python",
   "name": "python3"
  },
  "language_info": {
   "codemirror_mode": {
    "name": "ipython",
    "version": 3
   },
   "file_extension": ".py",
   "mimetype": "text/x-python",
   "name": "python",
   "nbconvert_exporter": "python",
   "pygments_lexer": "ipython3",
   "version": "3.8.8"
  }
 },
 "nbformat": 4,
 "nbformat_minor": 5
}
