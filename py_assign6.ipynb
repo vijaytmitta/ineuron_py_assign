{
 "cells": [
  {
   "cell_type": "code",
   "execution_count": 1,
   "id": "462c2479",
   "metadata": {},
   "outputs": [
    {
     "name": "stdout",
     "output_type": "stream",
     "text": [
      "Enter positive value for fibonacci sequence: 4\n",
      "Fibonacci Sequence\n",
      "0\n",
      "1\n",
      "1\n",
      "2\n"
     ]
    }
   ],
   "source": [
    "# Write a Python Program to Display Fibonacci Sequence Using Recursion?\n",
    "\n",
    "n=int(input('Enter positive value for fibonacci sequence: '))\n",
    "def rec_fib_s(n):\n",
    "    if n<=1:\n",
    "        return n\n",
    "    else:\n",
    "        return (rec_fib_s(n-1)+rec_fib_s(n-2))\n",
    "\n",
    "if n<=0:print('Invalid input')\n",
    "else:\n",
    "    print('Fibonacci Sequence')\n",
    "    for i in range(n):\n",
    "        print(rec_fib_s(i))"
   ]
  },
  {
   "cell_type": "code",
   "execution_count": 2,
   "id": "fcb9ca62",
   "metadata": {},
   "outputs": [
    {
     "name": "stdout",
     "output_type": "stream",
     "text": [
      "Enter positive value for factorial: 4\n",
      "4 factorial is :24\n"
     ]
    }
   ],
   "source": [
    "# Write a Python Program to Find Factorial of Number Using Recursion?\n",
    "\n",
    "n=int(input('Enter positive value for factorial: '))\n",
    "def Fact_rec(n):\n",
    "    if n<=2:\n",
    "        return n\n",
    "    else:return (Fact_rec(n-1)*n)\n",
    "\n",
    "if n<1:\n",
    "    print('Invalid Input')\n",
    "else:\n",
    "    fact=1\n",
    "    for i in range(1,n+1):\n",
    "        fact=Fact_rec(n)\n",
    "    print('{0} factorial is :{1}'.format(n,fact))"
   ]
  },
  {
   "cell_type": "code",
   "execution_count": 3,
   "id": "b557ca50",
   "metadata": {},
   "outputs": [
    {
     "name": "stdout",
     "output_type": "stream",
     "text": [
      "Enter height in meteres: 1.6\n",
      "Enter weight in kgs: 59\n",
      "Your BMI is:  23.046874999999996\n"
     ]
    }
   ],
   "source": [
    "# Write a Python Program to calculate your Body Mass Index?\n",
    "\n",
    "Height=float(input('Enter height in meteres: '))\n",
    "Weight=float(input('Enter weight in kgs: '))\n",
    "\n",
    "BMI=(Weight/(Height**2))\n",
    "print('Your BMI is: ',BMI)"
   ]
  },
  {
   "cell_type": "code",
   "execution_count": 4,
   "id": "581b29f7",
   "metadata": {},
   "outputs": [
    {
     "name": "stdout",
     "output_type": "stream",
     "text": [
      "Enter natural number: 2.71\n",
      "2.71 natural logarithm is:0.9969486348916096\n"
     ]
    }
   ],
   "source": [
    "# Write a Python Program to calculate the natural logarithm of any number?\n",
    "\n",
    "n=float(input('Enter natural number: '))\n",
    "import math\n",
    "\n",
    "print('{0} natural logarithm is:{1}'.format(n,math.log(n)))\n"
   ]
  },
  {
   "cell_type": "code",
   "execution_count": 5,
   "id": "95861c96",
   "metadata": {},
   "outputs": [
    {
     "name": "stdout",
     "output_type": "stream",
     "text": [
      "Enter positive value: 4\n",
      "cube sum of first :4 natural numbers:100\n"
     ]
    }
   ],
   "source": [
    "# Write a Python Program for cube sum of first n natural numbers?\n",
    "\n",
    "n=int(input('Enter positive value: '))\n",
    "\n",
    "sum=0\n",
    "for i in range(n+1):\n",
    "    sum+=(i**3)\n",
    "\n",
    "print('cube sum of first :{0} natural numbers:{1}'.format(n,sum))"
   ]
  }
 ],
 "metadata": {
  "kernelspec": {
   "display_name": "Python 3",
   "language": "python",
   "name": "python3"
  },
  "language_info": {
   "codemirror_mode": {
    "name": "ipython",
    "version": 3
   },
   "file_extension": ".py",
   "mimetype": "text/x-python",
   "name": "python",
   "nbconvert_exporter": "python",
   "pygments_lexer": "ipython3",
   "version": "3.8.8"
  }
 },
 "nbformat": 4,
 "nbformat_minor": 5
}
