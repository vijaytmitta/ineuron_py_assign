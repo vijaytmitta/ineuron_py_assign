{
 "cells": [
  {
   "cell_type": "code",
   "execution_count": 1,
   "id": "9a4e656f",
   "metadata": {},
   "outputs": [
    {
     "name": "stdout",
     "output_type": "stream",
     "text": [
      "Enter value of number want to get factorial: 6\n",
      "factorial of number: 6 is 720\n"
     ]
    }
   ],
   "source": [
    "# Write a Python Program to Find the Factorial of a Number?\n",
    "\n",
    "num=int(input('Enter value of number want to get factorial: '))\n",
    "\n",
    "\n",
    "if num<=0 :\n",
    "    print('Not possible')\n",
    "else:\n",
    "    fact=1\n",
    "    for i in range(1,num):\n",
    "        fact=fact*(i+1)\n",
    "        if i==num:break\n",
    "    print('factorial of number: {0} is {1}'.format(num,fact))"
   ]
  },
  {
   "cell_type": "code",
   "execution_count": 2,
   "id": "85bac23e",
   "metadata": {},
   "outputs": [
    {
     "name": "stdout",
     "output_type": "stream",
     "text": [
      "Enter a value for multiplication table19\n",
      "19 x 1 = 19\n",
      "19 x 2 = 38\n",
      "19 x 3 = 57\n",
      "19 x 4 = 76\n",
      "19 x 5 = 95\n",
      "19 x 6 = 114\n",
      "19 x 7 = 133\n",
      "19 x 8 = 152\n",
      "19 x 9 = 171\n",
      "19 x 10 = 190\n"
     ]
    }
   ],
   "source": [
    "# Write a Python Program to Display the multiplication Table?\n",
    "\n",
    "num=int(input('Enter a value for multiplication table'))\n",
    "\n",
    "for i in range(1,11):\n",
    "    print(num,'x',i,'=',(num*i))"
   ]
  },
  {
   "cell_type": "code",
   "execution_count": 3,
   "id": "5816d144",
   "metadata": {},
   "outputs": [
    {
     "name": "stdout",
     "output_type": "stream",
     "text": [
      "Enter a value want to get Fibonacci sequence6\n",
      "Fibonacci sequence of number : 6\n",
      "0\n",
      "1\n",
      "1\n",
      "2\n",
      "3\n",
      "5\n"
     ]
    }
   ],
   "source": [
    "# Write a Python Program to Print the Fibonacci sequence?\n",
    "\n",
    "num=int(input('Enter a value want to get Fibonacci sequence'))\n",
    "\n",
    "if num<=0:\n",
    "    print('Not possible')\n",
    "else:\n",
    "    a=0\n",
    "    print('Fibonacci sequence of number :',num)\n",
    "    b=1\n",
    "    for i in range(num):\n",
    "        c=a+b\n",
    "        print(a)\n",
    "        a=b\n",
    "        b=c\n",
    "        "
   ]
  },
  {
   "cell_type": "code",
   "execution_count": 4,
   "id": "3ad7da5e",
   "metadata": {},
   "outputs": [
    {
     "name": "stdout",
     "output_type": "stream",
     "text": [
      "Enter a value want to get Armstrong Number: 153\n",
      "Entered value 153 is Armstrong Number\n"
     ]
    }
   ],
   "source": [
    "# Write a Python Program to Check Armstrong Number?\n",
    "\n",
    "num=int(input('Enter a value want to get Armstrong Number: '))\n",
    "\n",
    "temp=num\n",
    "sumt=0\n",
    "while temp>0:\n",
    "    rem=temp%10 \n",
    "    sumt+=rem**3\n",
    "    temp//=10\n",
    "if sumt==num:\n",
    "    print('Entered value {0} is Armstrong Number'.format(num))\n",
    "else: \n",
    "    print('Entered value {0} is not Armstrong Number'.format(num))"
   ]
  },
  {
   "cell_type": "code",
   "execution_count": 5,
   "id": "9611f374",
   "metadata": {},
   "outputs": [
    {
     "name": "stdout",
     "output_type": "stream",
     "text": [
      "Enter start value of the interval: 1\n",
      "Enter end value of the interval: 100\n",
      "Armstrong numbers between given interval from 1 to 100\n",
      "1\n"
     ]
    }
   ],
   "source": [
    "# Write a Python Program to Find Armstrong Number in an Interval?\n",
    "\n",
    "start=int(input('Enter start value of the interval: '))\n",
    "end=int(input('Enter end value of the interval: '))\n",
    "if end>start:\n",
    "    print('Armstrong numbers between given interval from {0} to {1}'.format(start,end))\n",
    "    for i in range(start, end+1):\n",
    "        temp=i\n",
    "        sumt=0\n",
    "        while temp>0:\n",
    "            rem=temp%10 \n",
    "            sumt+=rem**3\n",
    "            temp//=10\n",
    "        if sumt==i:\n",
    "            print(i)"
   ]
  },
  {
   "cell_type": "code",
   "execution_count": 6,
   "id": "64985f13",
   "metadata": {},
   "outputs": [
    {
     "name": "stdout",
     "output_type": "stream",
     "text": [
      "Enter the range of value want to get sum of natural numbers10\n",
      "sum of natural numbers upto :10\n",
      "55\n"
     ]
    }
   ],
   "source": [
    "# Write a Python Program to Find the Sum of Natural Numbers?\n",
    "\n",
    "num=int(input('Enter the range of value want to get sum of natural numbers'))\n",
    "print('sum of natural numbers upto :{0}'.format(num))\n",
    "a=0\n",
    "for i in range(num+1):\n",
    "    a+=i\n",
    "print(a)      \n",
    "    "
   ]
  }
 ],
 "metadata": {
  "kernelspec": {
   "display_name": "Python 3",
   "language": "python",
   "name": "python3"
  },
  "language_info": {
   "codemirror_mode": {
    "name": "ipython",
    "version": 3
   },
   "file_extension": ".py",
   "mimetype": "text/x-python",
   "name": "python",
   "nbconvert_exporter": "python",
   "pygments_lexer": "ipython3",
   "version": "3.8.8"
  }
 },
 "nbformat": 4,
 "nbformat_minor": 5
}
